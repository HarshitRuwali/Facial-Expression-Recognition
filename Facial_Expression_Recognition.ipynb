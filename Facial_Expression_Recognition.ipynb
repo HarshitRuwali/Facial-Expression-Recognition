{
  "nbformat": 4,
  "nbformat_minor": 0,
  "metadata": {
    "colab": {
      "name": "Facial-Expression-Recognition.ipynb",
      "provenance": [],
      "collapsed_sections": []
    },
    "kernelspec": {
      "name": "python3",
      "display_name": "Python 3"
    },
    "accelerator": "GPU"
  },
  "cells": [
    {
      "cell_type": "code",
      "metadata": {
        "id": "6r71DoP_UGwU",
        "colab_type": "code",
        "colab": {
          "base_uri": "https://localhost:8080/",
          "height": 90
        },
        "outputId": "48606eac-6613-4c69-8903-2aed237cfc13"
      },
      "source": [
        "import os\n",
        "import numpy as np\n",
        "import pandas as pd\n",
        "import seaborn as sns\n",
        "import matplotlib.pyplot as plt\n",
        "from PIL import Image\n",
        "import glob\n",
        "import cv2\n",
        "from sklearn.model_selection import train_test_split\n",
        "import tensorflow as tf\n",
        "from keras.layers import Dropout, Dense\n",
        "from keras.layers.normalization import BatchNormalization\n",
        "from keras.models import Sequential, load_model\n",
        "from keras.applications import VGG16\n",
        "from sklearn.metrics import accuracy_score, confusion_matrix"
      ],
      "execution_count": 1,
      "outputs": [
        {
          "output_type": "stream",
          "text": [
            "/usr/local/lib/python3.6/dist-packages/statsmodels/tools/_testing.py:19: FutureWarning: pandas.util.testing is deprecated. Use the functions in the public API at pandas.testing instead.\n",
            "  import pandas.util.testing as tm\n",
            "Using TensorFlow backend.\n"
          ],
          "name": "stderr"
        }
      ]
    },
    {
      "cell_type": "code",
      "metadata": {
        "id": "8FqjX2aVdS5Y",
        "colab_type": "code",
        "colab": {
          "base_uri": "https://localhost:8080/",
          "height": 1000
        },
        "outputId": "bb6ed99e-caba-4fec-a6ca-72d7c64d7fc4"
      },
      "source": [
        "!unzip '/content/Dataset.zip'"
      ],
      "execution_count": 3,
      "outputs": [
        {
          "output_type": "stream",
          "text": [
            "Archive:  /content/Dataset.zip\n",
            "   creating: Dataset/\n",
            "   creating: Dataset/Happy/\n",
            "  inflating: Dataset/.DS_Store       \n",
            "  inflating: __MACOSX/Dataset/._.DS_Store  \n",
            "   creating: Dataset/Sad/\n",
            "   creating: Dataset/Fear/\n",
            "   creating: Dataset/Surprise/\n",
            "   creating: Dataset/Neutral/\n",
            "   creating: Dataset/Angry/\n",
            "   creating: Dataset/Disgust/\n",
            "  inflating: Dataset/Happy/TM.HA2.181.tiff  \n",
            "  inflating: __MACOSX/Dataset/Happy/._TM.HA2.181.tiff  \n",
            "  inflating: Dataset/Happy/YM.HA2.53.tiff  \n",
            "  inflating: __MACOSX/Dataset/Happy/._YM.HA2.53.tiff  \n",
            "  inflating: Dataset/Happy/NA.HA3.204.tiff  \n",
            "  inflating: __MACOSX/Dataset/Happy/._NA.HA3.204.tiff  \n",
            "  inflating: Dataset/Happy/KM.HA2.5.tiff  \n",
            "  inflating: __MACOSX/Dataset/Happy/._KM.HA2.5.tiff  \n",
            "  inflating: Dataset/Happy/KA.HA1.29.tiff  \n",
            "  inflating: __MACOSX/Dataset/Happy/._KA.HA1.29.tiff  \n",
            "  inflating: Dataset/Happy/KR.HA2.75.tiff  \n",
            "  inflating: __MACOSX/Dataset/Happy/._KR.HA2.75.tiff  \n",
            "  inflating: Dataset/Happy/KR.HA1.74.tiff  \n",
            "  inflating: __MACOSX/Dataset/Happy/._KR.HA1.74.tiff  \n",
            "  inflating: Dataset/Happy/YM.HA3.54.tiff  \n",
            "  inflating: __MACOSX/Dataset/Happy/._YM.HA3.54.tiff  \n",
            "  inflating: Dataset/Happy/MK.HA2.117.tiff  \n",
            "  inflating: __MACOSX/Dataset/Happy/._MK.HA2.117.tiff  \n",
            "  inflating: Dataset/Happy/KL.HA2.159.tiff  \n",
            "  inflating: __MACOSX/Dataset/Happy/._KL.HA2.159.tiff  \n",
            "  inflating: Dataset/Happy/YM.HA1.52.tiff  \n",
            "  inflating: __MACOSX/Dataset/Happy/._YM.HA1.52.tiff  \n",
            "  inflating: Dataset/Happy/KM.HA3.6.tiff  \n",
            "  inflating: __MACOSX/Dataset/Happy/._KM.HA3.6.tiff  \n",
            "  inflating: Dataset/Happy/NA.HA2.203.tiff  \n",
            "  inflating: __MACOSX/Dataset/Happy/._NA.HA2.203.tiff  \n",
            "  inflating: Dataset/Happy/NM.HA1.95.tiff  \n",
            "  inflating: __MACOSX/Dataset/Happy/._NM.HA1.95.tiff  \n",
            "  inflating: Dataset/Happy/TM.HA1.180.tiff  \n",
            "  inflating: __MACOSX/Dataset/Happy/._TM.HA1.180.tiff  \n",
            "  inflating: Dataset/Happy/KM.HA1.4.tiff  \n",
            "  inflating: __MACOSX/Dataset/Happy/._KM.HA1.4.tiff  \n",
            "  inflating: Dataset/Happy/KM.HA4.7.tiff  \n",
            "  inflating: __MACOSX/Dataset/Happy/._KM.HA4.7.tiff  \n",
            "  inflating: Dataset/Happy/KA.HA2.30.tiff  \n",
            "  inflating: __MACOSX/Dataset/Happy/._KA.HA2.30.tiff  \n",
            "  inflating: Dataset/Happy/UY.HA2.138.tiff  \n",
            "  inflating: __MACOSX/Dataset/Happy/._UY.HA2.138.tiff  \n",
            "  inflating: Dataset/Happy/KA.HA3.31.tiff  \n",
            "  inflating: __MACOSX/Dataset/Happy/._KA.HA3.31.tiff  \n",
            "  inflating: Dataset/Happy/KL.HA3.160.tiff  \n",
            "  inflating: __MACOSX/Dataset/Happy/._KL.HA3.160.tiff  \n",
            "  inflating: Dataset/Happy/UY.HA3.139.tiff  \n",
            "  inflating: __MACOSX/Dataset/Happy/._UY.HA3.139.tiff  \n",
            "  inflating: Dataset/Happy/MK.HA3.118.tiff  \n",
            "  inflating: __MACOSX/Dataset/Happy/._MK.HA3.118.tiff  \n",
            "  inflating: Dataset/Happy/UY.HA1.137.tiff  \n",
            "  inflating: __MACOSX/Dataset/Happy/._UY.HA1.137.tiff  \n",
            "  inflating: Dataset/Happy/NM.HA3.97.tiff  \n",
            "  inflating: __MACOSX/Dataset/Happy/._NM.HA3.97.tiff  \n",
            "  inflating: Dataset/Happy/NM.HA2.96.tiff  \n",
            "  inflating: __MACOSX/Dataset/Happy/._NM.HA2.96.tiff  \n",
            "  inflating: Dataset/Happy/MK.HA1.116.tiff  \n",
            "  inflating: __MACOSX/Dataset/Happy/._MK.HA1.116.tiff  \n",
            "  inflating: Dataset/Happy/KL.HA1.158.tiff  \n",
            "  inflating: __MACOSX/Dataset/Happy/._KL.HA1.158.tiff  \n",
            "  inflating: Dataset/Happy/KA.HA4.32.tiff  \n",
            "  inflating: __MACOSX/Dataset/Happy/._KA.HA4.32.tiff  \n",
            "  inflating: Dataset/Happy/NA.HA1.202.tiff  \n",
            "  inflating: __MACOSX/Dataset/Happy/._NA.HA1.202.tiff  \n",
            "  inflating: Dataset/Happy/TM.HA3.182.tiff  \n",
            "  inflating: __MACOSX/Dataset/Happy/._TM.HA3.182.tiff  \n",
            "  inflating: Dataset/Sad/MK.SA1.119.tiff  \n",
            "  inflating: __MACOSX/Dataset/Sad/._MK.SA1.119.tiff  \n",
            "  inflating: Dataset/Sad/KM.SA5.13.tiff  \n",
            "  inflating: __MACOSX/Dataset/Sad/._KM.SA5.13.tiff  \n",
            "  inflating: Dataset/Sad/TM.SA1.184.tiff  \n",
            "  inflating: __MACOSX/Dataset/Sad/._TM.SA1.184.tiff  \n",
            "  inflating: Dataset/Sad/KL.SA1.161.tiff  \n",
            "  inflating: __MACOSX/Dataset/Sad/._KL.SA1.161.tiff  \n",
            "  inflating: Dataset/Sad/MK.SA2.120.tiff  \n",
            "  inflating: __MACOSX/Dataset/Sad/._MK.SA2.120.tiff  \n",
            "  inflating: Dataset/Sad/NM.SA3.100.tiff  \n",
            "  inflating: __MACOSX/Dataset/Sad/._NM.SA3.100.tiff  \n",
            "  inflating: Dataset/Sad/KM.SA1.9.tiff  \n",
            "  inflating: __MACOSX/Dataset/Sad/._KM.SA1.9.tiff  \n",
            "  inflating: Dataset/Sad/KL.SA3.163.tiff  \n",
            "  inflating: __MACOSX/Dataset/Sad/._KL.SA3.163.tiff  \n",
            "  inflating: Dataset/Sad/TM.SA3.186.tiff  \n",
            "  inflating: __MACOSX/Dataset/Sad/._TM.SA3.186.tiff  \n",
            "  inflating: Dataset/Sad/UY.SA2.141.tiff  \n",
            "  inflating: __MACOSX/Dataset/Sad/._UY.SA2.141.tiff  \n",
            "  inflating: Dataset/Sad/KL.SA2.162.tiff  \n",
            "  inflating: __MACOSX/Dataset/Sad/._KL.SA2.162.tiff  \n",
            "  inflating: Dataset/Sad/KR.SA1.77.tiff  \n",
            "  inflating: __MACOSX/Dataset/Sad/._KR.SA1.77.tiff  \n",
            "  inflating: Dataset/Sad/KM.SA3.11.tiff  \n",
            "  inflating: __MACOSX/Dataset/Sad/._KM.SA3.11.tiff  \n",
            "  inflating: Dataset/Sad/YM.SA3.57.tiff  \n",
            "  inflating: __MACOSX/Dataset/Sad/._YM.SA3.57.tiff  \n",
            "  inflating: Dataset/Sad/MK.SA3.121.tiff  \n",
            "  inflating: __MACOSX/Dataset/Sad/._MK.SA3.121.tiff  \n",
            "  inflating: Dataset/Sad/YM.SA2.56.tiff  \n",
            "  inflating: __MACOSX/Dataset/Sad/._YM.SA2.56.tiff  \n",
            "  inflating: Dataset/Sad/KM.SA2.10.tiff  \n",
            "  inflating: __MACOSX/Dataset/Sad/._KM.SA2.10.tiff  \n",
            "  inflating: Dataset/Sad/NM.SA1.98.tiff  \n",
            "  inflating: __MACOSX/Dataset/Sad/._NM.SA1.98.tiff  \n",
            "  inflating: Dataset/Sad/UY.SA3.142.tiff  \n",
            "  inflating: __MACOSX/Dataset/Sad/._UY.SA3.142.tiff  \n",
            "  inflating: Dataset/Sad/NA.SA1.205.tiff  \n",
            "  inflating: __MACOSX/Dataset/Sad/._NA.SA1.205.tiff  \n",
            "  inflating: Dataset/Sad/TM.SA2.185.tiff  \n",
            "  inflating: __MACOSX/Dataset/Sad/._TM.SA2.185.tiff  \n",
            "  inflating: Dataset/Sad/KR.SA3.79.tiff  \n",
            "  inflating: __MACOSX/Dataset/Sad/._KR.SA3.79.tiff  \n",
            "  inflating: Dataset/Sad/KA.SA3.35.tiff  \n",
            "  inflating: __MACOSX/Dataset/Sad/._KA.SA3.35.tiff  \n",
            "  inflating: Dataset/Sad/KA.SA2.34.tiff  \n",
            "  inflating: __MACOSX/Dataset/Sad/._KA.SA2.34.tiff  \n",
            "  inflating: Dataset/Sad/KR.SA2.78.tiff  \n",
            "  inflating: __MACOSX/Dataset/Sad/._KR.SA2.78.tiff  \n",
            "  inflating: Dataset/Sad/NA.SA3.207.tiff  \n",
            "  inflating: __MACOSX/Dataset/Sad/._NA.SA3.207.tiff  \n",
            "  inflating: Dataset/Sad/YM.SA1.55.tiff  \n",
            "  inflating: __MACOSX/Dataset/Sad/._YM.SA1.55.tiff  \n",
            "  inflating: Dataset/Sad/NA.SA2.206.tiff  \n",
            "  inflating: __MACOSX/Dataset/Sad/._NA.SA2.206.tiff  \n",
            "  inflating: Dataset/Sad/KA.SA1.33.tiff  \n",
            "  inflating: __MACOSX/Dataset/Sad/._KA.SA1.33.tiff  \n",
            "  inflating: Dataset/Sad/UY.SA1.140.tiff  \n",
            "  inflating: __MACOSX/Dataset/Sad/._UY.SA1.140.tiff  \n",
            "  inflating: Dataset/Sad/NM.SA2.99.tiff  \n",
            "  inflating: __MACOSX/Dataset/Sad/._NM.SA2.99.tiff  \n",
            "  inflating: Dataset/Fear/NA.FE2.218.tiff  \n",
            "  inflating: __MACOSX/Dataset/Fear/._NA.FE2.218.tiff  \n",
            "  inflating: Dataset/Fear/UY.FE1.152.tiff  \n",
            "  inflating: __MACOSX/Dataset/Fear/._UY.FE1.152.tiff  \n",
            "  inflating: Dataset/Fear/KA.FE1.45.tiff  \n",
            "  inflating: __MACOSX/Dataset/Fear/._KA.FE1.45.tiff  \n",
            "  inflating: Dataset/Fear/KL.FE2.175.tiff  \n",
            "  inflating: __MACOSX/Dataset/Fear/._KL.FE2.175.tiff  \n",
            "  inflating: Dataset/Fear/YM.FE2.68.tiff  \n",
            "  inflating: __MACOSX/Dataset/Fear/._YM.FE2.68.tiff  \n",
            "  inflating: Dataset/Fear/NA.FE3.219.tiff  \n",
            "  inflating: __MACOSX/Dataset/Fear/._NA.FE3.219.tiff  \n",
            "  inflating: Dataset/Fear/YM.FE3.69.tiff  \n",
            "  inflating: __MACOSX/Dataset/Fear/._YM.FE3.69.tiff  \n",
            "  inflating: Dataset/Fear/YM.FE4.70.tiff  \n",
            "  inflating: __MACOSX/Dataset/Fear/._YM.FE4.70.tiff  \n",
            "  inflating: Dataset/Fear/NM.FE2.111.tiff  \n",
            "  inflating: __MACOSX/Dataset/Fear/._NM.FE2.111.tiff  \n",
            "  inflating: Dataset/Fear/KM.FE1.23.tiff  \n",
            "  inflating: __MACOSX/Dataset/Fear/._KM.FE1.23.tiff  \n",
            "  inflating: Dataset/Fear/TM.FE2.197.tiff  \n",
            "  inflating: __MACOSX/Dataset/Fear/._TM.FE2.197.tiff  \n",
            "  inflating: Dataset/Fear/NA.FE1.217.tiff  \n",
            "  inflating: __MACOSX/Dataset/Fear/._NA.FE1.217.tiff  \n",
            "  inflating: Dataset/Fear/KR.FE3.91.tiff  \n",
            "  inflating: __MACOSX/Dataset/Fear/._KR.FE3.91.tiff  \n",
            "  inflating: Dataset/Fear/KR.FE2.90.tiff  \n",
            "  inflating: __MACOSX/Dataset/Fear/._KR.FE2.90.tiff  \n",
            "  inflating: Dataset/Fear/KM.FE2.24.tiff  \n",
            "  inflating: __MACOSX/Dataset/Fear/._KM.FE2.24.tiff  \n",
            "  inflating: Dataset/Fear/KM.FE3.25.tiff  \n",
            "  inflating: __MACOSX/Dataset/Fear/._KM.FE3.25.tiff  \n",
            "  inflating: Dataset/Fear/YM.FE1.67.tiff  \n",
            "  inflating: __MACOSX/Dataset/Fear/._YM.FE1.67.tiff  \n",
            "  inflating: Dataset/Fear/MK.FE3.133.tiff  \n",
            "  inflating: __MACOSX/Dataset/Fear/._MK.FE3.133.tiff  \n",
            "  inflating: Dataset/Fear/UY.FE2.153.tiff  \n",
            "  inflating: __MACOSX/Dataset/Fear/._UY.FE2.153.tiff  \n",
            "  inflating: Dataset/Fear/MK.FE2.132.tiff  \n",
            "  inflating: __MACOSX/Dataset/Fear/._MK.FE2.132.tiff  \n",
            "  inflating: Dataset/Fear/KA.FE3.47.tiff  \n",
            "  inflating: __MACOSX/Dataset/Fear/._KA.FE3.47.tiff  \n",
            "  inflating: Dataset/Fear/TM.FE3.198.tiff  \n",
            "  inflating: __MACOSX/Dataset/Fear/._TM.FE3.198.tiff  \n",
            "  inflating: Dataset/Fear/NM.FE3.112.tiff  \n",
            "  inflating: __MACOSX/Dataset/Fear/._NM.FE3.112.tiff  \n",
            "  inflating: Dataset/Fear/KA.FE2.46.tiff  \n",
            "  inflating: __MACOSX/Dataset/Fear/._KA.FE2.46.tiff  \n",
            "  inflating: Dataset/Fear/KL.FE1.174.tiff  \n",
            "  inflating: __MACOSX/Dataset/Fear/._KL.FE1.174.tiff  \n",
            "  inflating: Dataset/Fear/KL.FE3.176.tiff  \n",
            "  inflating: __MACOSX/Dataset/Fear/._KL.FE3.176.tiff  \n",
            "  inflating: Dataset/Fear/NM.FE1.110.tiff  \n",
            "  inflating: __MACOSX/Dataset/Fear/._NM.FE1.110.tiff  \n",
            "  inflating: Dataset/Fear/KA.FE4.48.tiff  \n",
            "  inflating: __MACOSX/Dataset/Fear/._KA.FE4.48.tiff  \n",
            "  inflating: Dataset/Fear/TM.FE1.196.tiff  \n",
            "  inflating: __MACOSX/Dataset/Fear/._TM.FE1.196.tiff  \n",
            "  inflating: Dataset/Fear/KR.FE1.89.tiff  \n",
            "  inflating: __MACOSX/Dataset/Fear/._KR.FE1.89.tiff  \n",
            "  inflating: Dataset/Fear/MK.FE1.131.tiff  \n",
            "  inflating: __MACOSX/Dataset/Fear/._MK.FE1.131.tiff  \n",
            "  inflating: Dataset/Fear/UY.FE3.154.tiff  \n",
            "  inflating: __MACOSX/Dataset/Fear/._UY.FE3.154.tiff  \n",
            "  inflating: Dataset/Surprise/KA.SU2.37.tiff  \n",
            "  inflating: __MACOSX/Dataset/Surprise/._KA.SU2.37.tiff  \n",
            "  inflating: Dataset/Surprise/KM.SU3.16.tiff  \n",
            "  inflating: __MACOSX/Dataset/Surprise/._KM.SU3.16.tiff  \n",
            "  inflating: Dataset/Surprise/KR.SU3.82.tiff  \n",
            "  inflating: __MACOSX/Dataset/Surprise/._KR.SU3.82.tiff  \n",
            "  inflating: Dataset/Surprise/KL.SU2.165.tiff  \n",
            "  inflating: __MACOSX/Dataset/Surprise/._KL.SU2.165.tiff  \n",
            "  inflating: Dataset/Surprise/NA.SU2.209.tiff  \n",
            "  inflating: __MACOSX/Dataset/Surprise/._NA.SU2.209.tiff  \n",
            "  inflating: Dataset/Surprise/UY.SU1.143.tiff  \n",
            "  inflating: __MACOSX/Dataset/Surprise/._UY.SU1.143.tiff  \n",
            "  inflating: Dataset/Surprise/KA.SU1.36.tiff  \n",
            "  inflating: __MACOSX/Dataset/Surprise/._KA.SU1.36.tiff  \n",
            "  inflating: Dataset/Surprise/MK.SU1.122.tiff  \n",
            "  inflating: __MACOSX/Dataset/Surprise/._MK.SU1.122.tiff  \n",
            "  inflating: Dataset/Surprise/YM.SU3.60.tiff  \n",
            "  inflating: __MACOSX/Dataset/Surprise/._YM.SU3.60.tiff  \n",
            "  inflating: Dataset/Surprise/UY.SU2.144.tiff  \n",
            "  inflating: __MACOSX/Dataset/Surprise/._UY.SU2.144.tiff  \n",
            "  inflating: Dataset/Surprise/NM.SU1.101.tiff  \n",
            "  inflating: __MACOSX/Dataset/Surprise/._NM.SU1.101.tiff  \n",
            "  inflating: Dataset/Surprise/MK.SU3.124.tiff  \n",
            "  inflating: __MACOSX/Dataset/Surprise/._MK.SU3.124.tiff  \n",
            "  inflating: Dataset/Surprise/KM.SU1.14.tiff  \n",
            "  inflating: __MACOSX/Dataset/Surprise/._KM.SU1.14.tiff  \n",
            "  inflating: Dataset/Surprise/KR.SU1.80.tiff  \n",
            "  inflating: __MACOSX/Dataset/Surprise/._KR.SU1.80.tiff  \n",
            "  inflating: Dataset/Surprise/TM.SU1.187.tiff  \n",
            "  inflating: __MACOSX/Dataset/Surprise/._TM.SU1.187.tiff  \n",
            "  inflating: Dataset/Surprise/NA.SU3.210.tiff  \n",
            "  inflating: __MACOSX/Dataset/Surprise/._NA.SU3.210.tiff  \n",
            "  inflating: Dataset/Surprise/UY.SU3.145.tiff  \n",
            "  inflating: __MACOSX/Dataset/Surprise/._UY.SU3.145.tiff  \n",
            "  inflating: Dataset/Surprise/YM.SU2.59.tiff  \n",
            "  inflating: __MACOSX/Dataset/Surprise/._YM.SU2.59.tiff  \n",
            "  inflating: Dataset/Surprise/KL.SU3.166.tiff  \n",
            "  inflating: __MACOSX/Dataset/Surprise/._KL.SU3.166.tiff  \n",
            "  inflating: Dataset/Surprise/NA.SU1.208.tiff  \n",
            "  inflating: __MACOSX/Dataset/Surprise/._NA.SU1.208.tiff  \n",
            "  inflating: Dataset/Surprise/KL.SU1.164.tiff  \n",
            "  inflating: __MACOSX/Dataset/Surprise/._KL.SU1.164.tiff  \n",
            "  inflating: Dataset/Surprise/TM.SU2.188.tiff  \n",
            "  inflating: __MACOSX/Dataset/Surprise/._TM.SU2.188.tiff  \n",
            "  inflating: Dataset/Surprise/NM.SU2.102.tiff  \n",
            "  inflating: __MACOSX/Dataset/Surprise/._NM.SU2.102.tiff  \n",
            "  inflating: Dataset/Surprise/KA.SU3.38.tiff  \n",
            "  inflating: __MACOSX/Dataset/Surprise/._KA.SU3.38.tiff  \n",
            "  inflating: Dataset/Surprise/YM.SU1.58.tiff  \n",
            "  inflating: __MACOSX/Dataset/Surprise/._YM.SU1.58.tiff  \n",
            "  inflating: Dataset/Surprise/NM.SU3.103.tiff  \n",
            "  inflating: __MACOSX/Dataset/Surprise/._NM.SU3.103.tiff  \n",
            "  inflating: Dataset/Surprise/TM.SU3.189.tiff  \n",
            "  inflating: __MACOSX/Dataset/Surprise/._TM.SU3.189.tiff  \n",
            "  inflating: Dataset/Surprise/KM.SU2.15.tiff  \n",
            "  inflating: __MACOSX/Dataset/Surprise/._KM.SU2.15.tiff  \n",
            "  inflating: Dataset/Surprise/KR.SU2.81.tiff  \n",
            "  inflating: __MACOSX/Dataset/Surprise/._KR.SU2.81.tiff  \n",
            "  inflating: Dataset/Surprise/MK.SU2.123.tiff  \n",
            "  inflating: __MACOSX/Dataset/Surprise/._MK.SU2.123.tiff  \n",
            "  inflating: Dataset/Neutral/MK.NE1.113.tiff  \n",
            "  inflating: __MACOSX/Dataset/Neutral/._MK.NE1.113.tiff  \n",
            "  inflating: Dataset/Neutral/YM.NE2.50.tiff  \n",
            "  inflating: __MACOSX/Dataset/Neutral/._YM.NE2.50.tiff  \n",
            "  inflating: Dataset/Neutral/YM.NE3.51.tiff  \n",
            "  inflating: __MACOSX/Dataset/Neutral/._YM.NE3.51.tiff  \n",
            "  inflating: Dataset/Neutral/KR.NE1.71.tiff  \n",
            "  inflating: __MACOSX/Dataset/Neutral/._KR.NE1.71.tiff  \n",
            "  inflating: Dataset/Neutral/TM.NE1.177.tiff  \n",
            "  inflating: __MACOSX/Dataset/Neutral/._TM.NE1.177.tiff  \n",
            "  inflating: Dataset/Neutral/UY.NE3.136.tiff  \n",
            "  inflating: __MACOSX/Dataset/Neutral/._UY.NE3.136.tiff  \n",
            "  inflating: Dataset/Neutral/KA.NE1.26.tiff  \n",
            "  inflating: __MACOSX/Dataset/Neutral/._KA.NE1.26.tiff  \n",
            "  inflating: Dataset/Neutral/UY.NE1.134.tiff  \n",
            "  inflating: __MACOSX/Dataset/Neutral/._UY.NE1.134.tiff  \n",
            "  inflating: Dataset/Neutral/TM.NE3.179.tiff  \n",
            "  inflating: __MACOSX/Dataset/Neutral/._TM.NE3.179.tiff  \n",
            "  inflating: Dataset/Neutral/KA.NE2.27.tiff  \n",
            "  inflating: __MACOSX/Dataset/Neutral/._KA.NE2.27.tiff  \n",
            "  inflating: Dataset/Neutral/TM.NE2.178.tiff  \n",
            "  inflating: __MACOSX/Dataset/Neutral/._TM.NE2.178.tiff  \n",
            "  inflating: Dataset/Neutral/KM.NE3.3.tiff  \n",
            "  inflating: __MACOSX/Dataset/Neutral/._KM.NE3.3.tiff  \n",
            "  inflating: Dataset/Neutral/KA.NE3.28.tiff  \n",
            "  inflating: __MACOSX/Dataset/Neutral/._KA.NE3.28.tiff  \n",
            "  inflating: Dataset/Neutral/NM.NE2.93.tiff  \n",
            "  inflating: __MACOSX/Dataset/Neutral/._NM.NE2.93.tiff  \n",
            "  inflating: Dataset/Neutral/KM.NE1.1.tiff  \n",
            "  inflating: __MACOSX/Dataset/Neutral/._KM.NE1.1.tiff  \n",
            "  inflating: Dataset/Neutral/KR.NE2.72.tiff  \n",
            "  inflating: __MACOSX/Dataset/Neutral/._KR.NE2.72.tiff  \n",
            "  inflating: Dataset/Neutral/YM.NE1.49.tiff  \n",
            "  inflating: __MACOSX/Dataset/Neutral/._YM.NE1.49.tiff  \n",
            "  inflating: Dataset/Neutral/KR.NE3.73.tiff  \n",
            "  inflating: __MACOSX/Dataset/Neutral/._KR.NE3.73.tiff  \n",
            "  inflating: Dataset/Neutral/KL.NE1.155.tiff  \n",
            "  inflating: __MACOSX/Dataset/Neutral/._KL.NE1.155.tiff  \n",
            "  inflating: Dataset/Neutral/KL.NE3.157.tiff  \n",
            "  inflating: __MACOSX/Dataset/Neutral/._KL.NE3.157.tiff  \n",
            "  inflating: Dataset/Neutral/UY.NE2.135.tiff  \n",
            "  inflating: __MACOSX/Dataset/Neutral/._UY.NE2.135.tiff  \n",
            "  inflating: Dataset/Neutral/NA.NE3.201.tiff  \n",
            "  inflating: __MACOSX/Dataset/Neutral/._NA.NE3.201.tiff  \n",
            "  inflating: Dataset/Neutral/NA.NE1.199.tiff  \n",
            "  inflating: __MACOSX/Dataset/Neutral/._NA.NE1.199.tiff  \n",
            "  inflating: Dataset/Neutral/NM.NE3.94.tiff  \n",
            "  inflating: __MACOSX/Dataset/Neutral/._NM.NE3.94.tiff  \n",
            "  inflating: Dataset/Neutral/MK.NE2.114.tiff  \n",
            "  inflating: __MACOSX/Dataset/Neutral/._MK.NE2.114.tiff  \n",
            "  inflating: Dataset/Neutral/KM.NE2.2.tiff  \n",
            "  inflating: __MACOSX/Dataset/Neutral/._KM.NE2.2.tiff  \n",
            "  inflating: Dataset/Neutral/MK.NE3.115.tiff  \n",
            "  inflating: __MACOSX/Dataset/Neutral/._MK.NE3.115.tiff  \n",
            "  inflating: Dataset/Neutral/NM.NE1.92.tiff  \n",
            "  inflating: __MACOSX/Dataset/Neutral/._NM.NE1.92.tiff  \n",
            "  inflating: Dataset/Neutral/NA.NE2.200.tiff  \n",
            "  inflating: __MACOSX/Dataset/Neutral/._NA.NE2.200.tiff  \n",
            "  inflating: Dataset/Neutral/KL.NE2.156.tiff  \n",
            "  inflating: __MACOSX/Dataset/Neutral/._KL.NE2.156.tiff  \n",
            "  inflating: Dataset/Angry/MK.AN3.127.tiff  \n",
            "  inflating: __MACOSX/Dataset/Angry/._MK.AN3.127.tiff  \n",
            "  inflating: Dataset/Angry/YM.AN3.63.tiff  \n",
            "  inflating: __MACOSX/Dataset/Angry/._YM.AN3.63.tiff  \n",
            "  inflating: Dataset/Angry/KA.AN1.39.tiff  \n",
            "  inflating: __MACOSX/Dataset/Angry/._KA.AN1.39.tiff  \n",
            "  inflating: Dataset/Angry/YM.AN2.62.tiff  \n",
            "  inflating: __MACOSX/Dataset/Angry/._YM.AN2.62.tiff  \n",
            "  inflating: Dataset/Angry/KL.AN2.168.tiff  \n",
            "  inflating: __MACOSX/Dataset/Angry/._KL.AN2.168.tiff  \n",
            "  inflating: Dataset/Angry/NA.AN2.212.tiff  \n",
            "  inflating: __MACOSX/Dataset/Angry/._NA.AN2.212.tiff  \n",
            "  inflating: Dataset/Angry/UY.AN2.147.tiff  \n",
            "  inflating: __MACOSX/Dataset/Angry/._UY.AN2.147.tiff  \n",
            "  inflating: Dataset/Angry/KL.AN3.169.tiff  \n",
            "  inflating: __MACOSX/Dataset/Angry/._KL.AN3.169.tiff  \n",
            "  inflating: Dataset/Angry/NA.AN3.213.tiff  \n",
            "  inflating: __MACOSX/Dataset/Angry/._NA.AN3.213.tiff  \n",
            "  inflating: Dataset/Angry/NM.AN3.106.tiff  \n",
            "  inflating: __MACOSX/Dataset/Angry/._NM.AN3.106.tiff  \n",
            "  inflating: Dataset/Angry/MK.AN2.126.tiff  \n",
            "  inflating: __MACOSX/Dataset/Angry/._MK.AN2.126.tiff  \n",
            "  inflating: Dataset/Angry/TM.AN2.191.tiff  \n",
            "  inflating: __MACOSX/Dataset/Angry/._TM.AN2.191.tiff  \n",
            "  inflating: Dataset/Angry/NM.AN1.104.tiff  \n",
            "  inflating: __MACOSX/Dataset/Angry/._NM.AN1.104.tiff  \n",
            "  inflating: Dataset/Angry/NA.AN1.211.tiff  \n",
            "  inflating: __MACOSX/Dataset/Angry/._NA.AN1.211.tiff  \n",
            "  inflating: Dataset/Angry/KM.AN2.18.tiff  \n",
            "  inflating: __MACOSX/Dataset/Angry/._KM.AN2.18.tiff  \n",
            "  inflating: Dataset/Angry/KL.AN1.167.tiff  \n",
            "  inflating: __MACOSX/Dataset/Angry/._KL.AN1.167.tiff  \n",
            "  inflating: Dataset/Angry/KM.AN3.19.tiff  \n",
            "  inflating: __MACOSX/Dataset/Angry/._KM.AN3.19.tiff  \n",
            "  inflating: Dataset/Angry/MK.AN1.125.tiff  \n",
            "  inflating: __MACOSX/Dataset/Angry/._MK.AN1.125.tiff  \n",
            "  inflating: Dataset/Angry/KA.AN2.40.tiff  \n",
            "  inflating: __MACOSX/Dataset/Angry/._KA.AN2.40.tiff  \n",
            "  inflating: Dataset/Angry/KA.AN3.41.tiff  \n",
            "  inflating: __MACOSX/Dataset/Angry/._KA.AN3.41.tiff  \n",
            "  inflating: Dataset/Angry/UY.AN1.146.tiff  \n",
            "  inflating: __MACOSX/Dataset/Angry/._UY.AN1.146.tiff  \n",
            "  inflating: Dataset/Angry/YM.AN1.61.tiff  \n",
            "  inflating: __MACOSX/Dataset/Angry/._YM.AN1.61.tiff  \n",
            "  inflating: Dataset/Angry/TM.AN3.192.tiff  \n",
            "  inflating: __MACOSX/Dataset/Angry/._TM.AN3.192.tiff  \n",
            "  inflating: Dataset/Angry/NM.AN2.105.tiff  \n",
            "  inflating: __MACOSX/Dataset/Angry/._NM.AN2.105.tiff  \n",
            "  inflating: Dataset/Angry/TM.AN1.190.tiff  \n",
            "  inflating: __MACOSX/Dataset/Angry/._TM.AN1.190.tiff  \n",
            "  inflating: Dataset/Angry/KR.AN3.85.tiff  \n",
            "  inflating: __MACOSX/Dataset/Angry/._KR.AN3.85.tiff  \n",
            "  inflating: Dataset/Angry/KR.AN2.84.tiff  \n",
            "  inflating: __MACOSX/Dataset/Angry/._KR.AN2.84.tiff  \n",
            "  inflating: Dataset/Angry/KR.AN1.83.tiff  \n",
            "  inflating: __MACOSX/Dataset/Angry/._KR.AN1.83.tiff  \n",
            "  inflating: Dataset/Angry/KM.AN1.17.tiff  \n",
            "  inflating: __MACOSX/Dataset/Angry/._KM.AN1.17.tiff  \n",
            "  inflating: Dataset/Angry/UY.AN3.148.tiff  \n",
            "  inflating: __MACOSX/Dataset/Angry/._UY.AN3.148.tiff  \n",
            "  inflating: Dataset/Disgust/MK.DI1.128.tiff  \n",
            "  inflating: __MACOSX/Dataset/Disgust/._MK.DI1.128.tiff  \n",
            "  inflating: Dataset/Disgust/KL.DI4.173.tiff  \n",
            "  inflating: __MACOSX/Dataset/Disgust/._KL.DI4.173.tiff  \n",
            "  inflating: Dataset/Disgust/YM.DI3.66.tiff  \n",
            "  inflating: __MACOSX/Dataset/Disgust/._YM.DI3.66.tiff  \n",
            "  inflating: Dataset/Disgust/UY.DI1.149.tiff  \n",
            "  inflating: __MACOSX/Dataset/Disgust/._UY.DI1.149.tiff  \n",
            "  inflating: Dataset/Disgust/NA.DI2.215.tiff  \n",
            "  inflating: __MACOSX/Dataset/Disgust/._NA.DI2.215.tiff  \n",
            "  inflating: Dataset/Disgust/KL.DI1.170.tiff  \n",
            "  inflating: __MACOSX/Dataset/Disgust/._KL.DI1.170.tiff  \n",
            "  inflating: Dataset/Disgust/KL.DI3.172.tiff  \n",
            "  inflating: __MACOSX/Dataset/Disgust/._KL.DI3.172.tiff  \n",
            "  inflating: Dataset/Disgust/KM.DI1.20.tiff  \n",
            "  inflating: __MACOSX/Dataset/Disgust/._KM.DI1.20.tiff  \n",
            "  inflating: Dataset/Disgust/UY.DI3.151.tiff  \n",
            "  inflating: __MACOSX/Dataset/Disgust/._UY.DI3.151.tiff  \n",
            "  inflating: Dataset/Disgust/MK.DI3.130.tiff  \n",
            "  inflating: __MACOSX/Dataset/Disgust/._MK.DI3.130.tiff  \n",
            "  inflating: Dataset/Disgust/TM.DI1.193.tiff  \n",
            "  inflating: __MACOSX/Dataset/Disgust/._TM.DI1.193.tiff  \n",
            "  inflating: Dataset/Disgust/UY.DI2.150.tiff  \n",
            "  inflating: __MACOSX/Dataset/Disgust/._UY.DI2.150.tiff  \n",
            "  inflating: Dataset/Disgust/KR.DI3.88.tiff  \n",
            "  inflating: __MACOSX/Dataset/Disgust/._KR.DI3.88.tiff  \n",
            "  inflating: Dataset/Disgust/NM.DI3.109.tiff  \n",
            "  inflating: __MACOSX/Dataset/Disgust/._NM.DI3.109.tiff  \n",
            "  inflating: Dataset/Disgust/TM.DI3.195.tiff  \n",
            "  inflating: __MACOSX/Dataset/Disgust/._TM.DI3.195.tiff  \n",
            "  inflating: Dataset/Disgust/MK.DI2.129.tiff  \n",
            "  inflating: __MACOSX/Dataset/Disgust/._MK.DI2.129.tiff  \n",
            "  inflating: Dataset/Disgust/KA.DI1.42.tiff  \n",
            "  inflating: __MACOSX/Dataset/Disgust/._KA.DI1.42.tiff  \n",
            "  inflating: Dataset/Disgust/YM.DI1.64.tiff  \n",
            "  inflating: __MACOSX/Dataset/Disgust/._YM.DI1.64.tiff  \n",
            "  inflating: Dataset/Disgust/KR.DI2.87.tiff  \n",
            "  inflating: __MACOSX/Dataset/Disgust/._KR.DI2.87.tiff  \n",
            "  inflating: Dataset/Disgust/KL.DI2.171.tiff  \n",
            "  inflating: __MACOSX/Dataset/Disgust/._KL.DI2.171.tiff  \n",
            "  inflating: Dataset/Disgust/NA.DI1.214.tiff  \n",
            "  inflating: __MACOSX/Dataset/Disgust/._NA.DI1.214.tiff  \n",
            "  inflating: Dataset/Disgust/TM.DI2.194.tiff  \n",
            "  inflating: __MACOSX/Dataset/Disgust/._TM.DI2.194.tiff  \n",
            "  inflating: Dataset/Disgust/KA.DI3.44.tiff  \n",
            "  inflating: __MACOSX/Dataset/Disgust/._KA.DI3.44.tiff  \n",
            "  inflating: Dataset/Disgust/KR.DI1.86.tiff  \n",
            "  inflating: __MACOSX/Dataset/Disgust/._KR.DI1.86.tiff  \n",
            "  inflating: Dataset/Disgust/NA.DI3.216.tiff  \n",
            "  inflating: __MACOSX/Dataset/Disgust/._NA.DI3.216.tiff  \n",
            "  inflating: Dataset/Disgust/KA.DI2.43.tiff  \n",
            "  inflating: __MACOSX/Dataset/Disgust/._KA.DI2.43.tiff  \n",
            "  inflating: Dataset/Disgust/YM.DI2.65.tiff  \n",
            "  inflating: __MACOSX/Dataset/Disgust/._YM.DI2.65.tiff  \n",
            "  inflating: Dataset/Disgust/NM.DI1.107.tiff  \n",
            "  inflating: __MACOSX/Dataset/Disgust/._NM.DI1.107.tiff  \n",
            "  inflating: Dataset/Disgust/KM.DI3.22.tiff  \n",
            "  inflating: __MACOSX/Dataset/Disgust/._KM.DI3.22.tiff  \n"
          ],
          "name": "stdout"
        }
      ]
    },
    {
      "cell_type": "code",
      "metadata": {
        "id": "koVeDtTrdhtI",
        "colab_type": "code",
        "colab": {}
      },
      "source": [
        "path = '/content/Dataset'"
      ],
      "execution_count": 0,
      "outputs": []
    },
    {
      "cell_type": "markdown",
      "metadata": {
        "id": "Xu82lfrRtXCZ",
        "colab_type": "text"
      },
      "source": [
        "Angry"
      ]
    },
    {
      "cell_type": "code",
      "metadata": {
        "id": "ZgnRi5jPdJuM",
        "colab_type": "code",
        "colab": {
          "base_uri": "https://localhost:8080/",
          "height": 34
        },
        "outputId": "951948a4-e896-42f4-a5c3-7b8a03d0740f"
      },
      "source": [
        "angry = os.path.join(path, 'angry')\n",
        "print(\"number of images in Angry emotion = \" + str(len(angry)))"
      ],
      "execution_count": 6,
      "outputs": [
        {
          "output_type": "stream",
          "text": [
            "Number of images in Angry emotion = 22\n"
          ],
          "name": "stdout"
        }
      ]
    },
    {
      "cell_type": "code",
      "metadata": {
        "id": "W4V5srTDsyic",
        "colab_type": "code",
        "colab": {}
      },
      "source": [
        "angry_folderName = [str(i.split(\"\\\\\")[0])+\"/\" for i in angry]\n",
        "angry_imageName = [str(i.split(\"\\\\\")[1]) for i in angry]\n",
        "angry_emotion = [[\"Angry\"]*len(angry)][0]\n",
        "angry_label = [1]*len(angry)\n",
        "\n",
        "len(angry_folderName), len(angry_imageName), len(angry_emotion), len(angry_label)"
      ],
      "execution_count": 0,
      "outputs": []
    },
    {
      "cell_type": "code",
      "metadata": {
        "id": "q-9aJfJttM1J",
        "colab_type": "code",
        "colab": {}
      },
      "source": [
        "df_angry = pd.DataFrame()\n",
        "df_angry[\"folderName\"] = angry_folderName\n",
        "df_angry[\"imageName\"] = angry_imageName\n",
        "df_angry[\"Emotion\"] = angry_emotion\n",
        "df_angry[\"Labels\"] = angry_label\n",
        "df_angry.head()"
      ],
      "execution_count": 0,
      "outputs": []
    },
    {
      "cell_type": "markdown",
      "metadata": {
        "id": "q0JRU-hktdv5",
        "colab_type": "text"
      },
      "source": [
        "Disgust"
      ]
    },
    {
      "cell_type": "code",
      "metadata": {
        "id": "MG9KXXQkdmut",
        "colab_type": "code",
        "colab": {
          "base_uri": "https://localhost:8080/",
          "height": 34
        },
        "outputId": "49ce2e10-58a7-487f-ce20-5beb7cf473a3"
      },
      "source": [
        "disgust = os.path.join(path, 'disgust')\n",
        "print(\"number of images in disguist emotion = \" + str(len(disgust)))"
      ],
      "execution_count": 8,
      "outputs": [
        {
          "output_type": "stream",
          "text": [
            "Number of images in disguist emotion = 24\n"
          ],
          "name": "stdout"
        }
      ]
    },
    {
      "cell_type": "code",
      "metadata": {
        "id": "2sQCg3iltJP2",
        "colab_type": "code",
        "colab": {}
      },
      "source": [
        "disgust_floderName = [str(i.split(\"\\\\\")[0]) + '/' for i in disgust]\n",
        "disgust_imageName = [str(i.split(\"\\\\\")(1)) +'/' for i in disgust]\n",
        "disgust_emotion = [[\"Disgust\"] * len(disgust)][0]\n",
        "disgust_label = [2]* [disgust]\n",
        "\n",
        "len(disgust_folderName), len(disgust_imageName), len(disgust_emotion), len(disgust_label)"
      ],
      "execution_count": 0,
      "outputs": []
    },
    {
      "cell_type": "code",
      "metadata": {
        "id": "lrgSIQndtpk_",
        "colab_type": "code",
        "colab": {}
      },
      "source": [
        "df_disgust = pd.DataFrame()\n",
        "df_disgust['floderName'] = disgust_folderName\n",
        "df_disgust['imageName'] = disgust_imageName\n",
        "df_disgust['Emotion'] = disgust_emotion\n",
        "df_disgust['Labels'] = disgust_label\n",
        "df_disgust.head()"
      ],
      "execution_count": 0,
      "outputs": []
    },
    {
      "cell_type": "markdown",
      "metadata": {
        "id": "psxSpDMktgvm",
        "colab_type": "text"
      },
      "source": [
        "Fear"
      ]
    },
    {
      "cell_type": "code",
      "metadata": {
        "id": "PuOV9FSPej4b",
        "colab_type": "code",
        "colab": {
          "base_uri": "https://localhost:8080/",
          "height": 34
        },
        "outputId": "58f03258-c01b-4723-b867-5c3c3c6a206f"
      },
      "source": [
        "fear = os.path.jon(path, 'fear')\n",
        "print(\"number of images in fear emotion = \" = str(len(fear)))"
      ],
      "execution_count": 11,
      "outputs": [
        {
          "output_type": "stream",
          "text": [
            "number of images in fear emotion = 21\n"
          ],
          "name": "stdout"
        }
      ]
    },
    {
      "cell_type": "code",
      "metadata": {
        "id": "WOfhTlV8Bz8X",
        "colab_type": "code",
        "colab": {}
      },
      "source": [
        "fear_folderName = [str(i.split(\"\\\\\")[0]) + '/' for i in fear]\n",
        "fear_imageName = [str(i.split(\"\\\\\")[1]) + '/' for i in fear]\n",
        "fear_emotion = [[\"Fear\"] * len(fear)][0]\n",
        "fear_label = [3] * [fear]"
      ],
      "execution_count": 0,
      "outputs": []
    },
    {
      "cell_type": "code",
      "metadata": {
        "id": "QPit0bFcCUmH",
        "colab_type": "code",
        "colab": {}
      },
      "source": [
        "df_fear = pd.DataFrame()\n",
        "df_fear['folderName'] = disgust_folderName\n",
        "df_fear['imagename'] = fear_imageName\n",
        "df_fear['Emotion'] = fear_emotion\n",
        "df_fear['Labels'] = fear_emotion\n",
        "df_fear.head()"
      ],
      "execution_count": 0,
      "outputs": []
    },
    {
      "cell_type": "markdown",
      "metadata": {
        "id": "QtSGMMUIBxEY",
        "colab_type": "text"
      },
      "source": [
        "Happy"
      ]
    },
    {
      "cell_type": "code",
      "metadata": {
        "id": "eVj9SvrOe3u3",
        "colab_type": "code",
        "colab": {
          "base_uri": "https://localhost:8080/",
          "height": 34
        },
        "outputId": "5e6c4c02-1523-43d9-9b99-8f449d698595"
      },
      "source": [
        "happy = os.path.join(path, 'happy')\n",
        "print('number of images in happy emotion = ' + str(len(happy)))"
      ],
      "execution_count": 12,
      "outputs": [
        {
          "output_type": "stream",
          "text": [
            "number of images in happy emotion = 22\n"
          ],
          "name": "stdout"
        }
      ]
    },
    {
      "cell_type": "code",
      "metadata": {
        "id": "iGR3JAxdDtz6",
        "colab_type": "code",
        "colab": {}
      },
      "source": [
        "happy_folderName = [str(i.split(\"\\\\\")[0]) + '/' for i in happy]\n",
        "happy_imageName = [str(i.split(\"\\\\\")[1]) + '/' for i in happy]\n",
        "happy_emotion = [[\"Happy\"] * len(happy)][0]\n",
        "happy_label = [4] * [happy]"
      ],
      "execution_count": 0,
      "outputs": []
    },
    {
      "cell_type": "code",
      "metadata": {
        "id": "SOn66uwiDucQ",
        "colab_type": "code",
        "colab": {}
      },
      "source": [
        "df_happy = pd.DataFrame()\n",
        "df_happy[\"folderName\"] = happy_folderName\n",
        "df_happy[\"imageName\"] = happy_imageName\n",
        "df_happy[\"Emotion\"] = happy_emotion\n",
        "df_happy[\"Labels\"] = happy_label\n",
        "df_happy.head()"
      ],
      "execution_count": 0,
      "outputs": []
    },
    {
      "cell_type": "markdown",
      "metadata": {
        "id": "1uhGkhLWDVB1",
        "colab_type": "text"
      },
      "source": [
        "Neutral"
      ]
    },
    {
      "cell_type": "code",
      "metadata": {
        "id": "rcyvir-ofJYu",
        "colab_type": "code",
        "colab": {
          "base_uri": "https://localhost:8080/",
          "height": 34
        },
        "outputId": "92d096cb-393a-40b8-9de8-0d92d4df4ec0"
      },
      "source": [
        "neutral = os.path.join(path, 'neutral')\n",
        "print('number of images in neutral emotion = ' + str(len(neutral)))"
      ],
      "execution_count": 13,
      "outputs": [
        {
          "output_type": "stream",
          "text": [
            "number of images in neutral emotion = 22\n"
          ],
          "name": "stdout"
        }
      ]
    },
    {
      "cell_type": "code",
      "metadata": {
        "id": "cHj93kuQDu_v",
        "colab_type": "code",
        "colab": {}
      },
      "source": [
        "neutral_folderName = [str(i.split(\"\\\\\")[0]) + '/' for i in neutral]\n",
        "neutral_imageName = [str(i.split(\"\\\\\")[1]) + '/' for i in neutral]\n",
        "neutral_emotion = [[\"Neutral\"] * len(neutral)][0]\n",
        "neutral_label = [5] * [neutral]"
      ],
      "execution_count": 0,
      "outputs": []
    },
    {
      "cell_type": "code",
      "metadata": {
        "id": "J0ToDS-MDvDn",
        "colab_type": "code",
        "colab": {}
      },
      "source": [
        "df_neutral = pd.DataFrame()\n",
        "df_neutral[\"folderName\"] = neutral_folderName\n",
        "df_neutral[\"imageName\"] = neutral_imageName\n",
        "df_neutral[\"Emotion\"] = neutral_emotion\n",
        "df_neutral[\"Labels\"] = neutral_label\n",
        "df_neutral.head()"
      ],
      "execution_count": 0,
      "outputs": []
    },
    {
      "cell_type": "markdown",
      "metadata": {
        "id": "8YtEppxHDd-3",
        "colab_type": "text"
      },
      "source": [
        "Sad"
      ]
    },
    {
      "cell_type": "code",
      "metadata": {
        "id": "xEsmwA35fZR3",
        "colab_type": "code",
        "colab": {}
      },
      "source": [
        "sad = os.path.join(path, 'sad')\n",
        "print('number of images in sad emotion =' + str(len(sad)))"
      ],
      "execution_count": 0,
      "outputs": []
    },
    {
      "cell_type": "code",
      "metadata": {
        "id": "JxFZug5hDvv0",
        "colab_type": "code",
        "colab": {}
      },
      "source": [
        "sad_folderName = [str(i.split(\"\\\\\")[0]) + '/' for i in sad]\n",
        "sad_imageName = [str(i.split(\"\\\\\")[1]) + '/' for i in sad]\n",
        "sad_emotion = [[\"Sad\"] * len(sad)][0]\n",
        "sad_label = [6] * [sad]"
      ],
      "execution_count": 0,
      "outputs": []
    },
    {
      "cell_type": "code",
      "metadata": {
        "id": "xpFKFX-dDvyU",
        "colab_type": "code",
        "colab": {}
      },
      "source": [
        "df_sad = pd.DataFrame()\n",
        "df_sad[\"folderName\"] = sad_folderName\n",
        "df_sad[\"imageName\"] = sad_imageName\n",
        "df_sad[\"Emotion\"] = sad_emotion\n",
        "df_sad[\"Labels\"] = sad_label\n",
        "df_sad.head()"
      ],
      "execution_count": 0,
      "outputs": []
    },
    {
      "cell_type": "markdown",
      "metadata": {
        "id": "S8i-uRFCDfda",
        "colab_type": "text"
      },
      "source": [
        "Suprise"
      ]
    },
    {
      "cell_type": "code",
      "metadata": {
        "id": "HWRx3jnAr36g",
        "colab_type": "code",
        "colab": {}
      },
      "source": [
        "suprise = os.path.join(path, suprise)\n",
        "print('number of images in suprise emotion = ') + str(len(sad))"
      ],
      "execution_count": 0,
      "outputs": []
    },
    {
      "cell_type": "code",
      "metadata": {
        "id": "5ydIRo_VDwTD",
        "colab_type": "code",
        "colab": {}
      },
      "source": [
        "suprise_folderName = [str(i.split(\"\\\\\")[0]) + '/' for i in suprise]\n",
        "suprise_imageName = [str(i.split(\"\\\\\")[1]) + '/' for i in suprise]\n",
        "suprise_emotion = [[\"Suprise\"] * len(suprise)][0]\n",
        "suprise_label = [7] * [suprise]"
      ],
      "execution_count": 0,
      "outputs": []
    },
    {
      "cell_type": "code",
      "metadata": {
        "id": "bpkqL09ADwaf",
        "colab_type": "code",
        "colab": {}
      },
      "source": [
        "df_suprise = pd.DataFrame()\n",
        "df_suprise[\"folderName\"] = suprise_folderName\n",
        "df_suprise[\"imageName\"] = suprise_imageName\n",
        "df_suprise[\"Emotion\"] = suprise_emotion\n",
        "df_suprise[\"Labels\"] = suprise_label\n",
        "df_suprise.head()"
      ],
      "execution_count": 0,
      "outputs": []
    },
    {
      "cell_type": "markdown",
      "metadata": {
        "id": "IVbh3K7iGBpq",
        "colab_type": "text"
      },
      "source": [
        "All dataframes"
      ]
    },
    {
      "cell_type": "code",
      "metadata": {
        "id": "ZawC_qrcsXB9",
        "colab_type": "code",
        "colab": {}
      },
      "source": [
        "length = df_angry.shape[0] + df_disgust.shape[0] + df_fear.shape[0] + df_happy.shape[0] + df_neutral.shape[0] + df_sad.shape[0] + df_surprise.shape[0]\n",
        "print(\"Total number of images in all the emotions = \"+str(length))"
      ],
      "execution_count": 0,
      "outputs": []
    },
    {
      "cell_type": "code",
      "metadata": {
        "id": "2e0arTSBGHfx",
        "colab_type": "code",
        "colab": {}
      },
      "source": [
        "frames = [df_angry, df_disgust, df_fear, df_happy, df_neutral, df_sad, df_surprise]\n",
        "final = pd.concat(frames)\n",
        "final.shape"
      ],
      "execution_count": 0,
      "outputs": []
    },
    {
      "cell_type": "code",
      "metadata": {
        "id": "LlUzpi43GRnZ",
        "colab_type": "code",
        "colab": {}
      },
      "source": [
        "final.reset_index(inplace = True, drop = True)\n",
        "final = final.sample(frac = 1.0)   #shuffling the dataframe\n",
        "final.reset_index(inplace = True, drop = True)\n",
        "final.head()"
      ],
      "execution_count": 0,
      "outputs": []
    },
    {
      "cell_type": "markdown",
      "metadata": {
        "id": "2nj_lQRUGm7W",
        "colab_type": "text"
      },
      "source": [
        "Test - Cross Validation - Train Split"
      ]
    },
    {
      "cell_type": "code",
      "metadata": {
        "id": "1YKsojxmGp34",
        "colab_type": "code",
        "colab": {}
      },
      "source": [
        "df_train_data, df_test = train_test_split(final, stratify=final[\"Labels\"], test_size = 0.197860)\n",
        "df_train, df_cv = train_test_split(df_train_data, stratify=df_train_data[\"Labels\"], test_size = 0.166666)\n",
        "df_train.shape, df_cv.shape, df_test.shape "
      ],
      "execution_count": 0,
      "outputs": []
    },
    {
      "cell_type": "code",
      "metadata": {
        "id": "D1_0Na9-IpaT",
        "colab_type": "code",
        "colab": {}
      },
      "source": [
        ""
      ],
      "execution_count": 0,
      "outputs": []
    }
  ]
}